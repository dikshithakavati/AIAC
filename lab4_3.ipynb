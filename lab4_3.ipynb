{
  "nbformat": 4,
  "nbformat_minor": 0,
  "metadata": {
    "colab": {
      "provenance": [],
      "authorship_tag": "ABX9TyML/b2+U3C61O6dkTtcE2Hh",
      "include_colab_link": true
    },
    "kernelspec": {
      "name": "python3",
      "display_name": "Python 3"
    },
    "language_info": {
      "name": "python"
    }
  },
  "cells": [
    {
      "cell_type": "markdown",
      "metadata": {
        "id": "view-in-github",
        "colab_type": "text"
      },
      "source": [
        "<a href=\"https://colab.research.google.com/github/dikshithakavati/AIAC/blob/main/lab4_3.ipynb\" target=\"_parent\"><img src=\"https://colab.research.google.com/assets/colab-badge.svg\" alt=\"Open In Colab\"/></a>"
      ]
    },
    {
      "cell_type": "code",
      "execution_count": 2,
      "metadata": {
        "colab": {
          "base_uri": "https://localhost:8080/"
        },
        "id": "h1-q18QamXM8",
        "outputId": "d59f23d0-407e-45b7-9ca5-7a7fd64bd499"
      },
      "outputs": [
        {
          "output_type": "stream",
          "name": "stdout",
          "text": [
            "2000 is a leap year: True\n",
            "1900 is a leap year: False\n",
            "2024 is a leap year: True\n"
          ]
        }
      ],
      "source": [
        "def is_leap_year(year):\n",
        "  \"\"\"\n",
        "  Checks if a given year is a leap year.\n",
        "\n",
        "  Args:\n",
        "    year: The year to check.\n",
        "\n",
        "  Returns:\n",
        "    True if the year is a leap year, False otherwise.\n",
        "  \"\"\"\n",
        "  if (year % 4 == 0 and year % 100 != 0) or (year % 400 == 0):\n",
        "    return True\n",
        "  else:\n",
        "    return False\n",
        "\n",
        "# Example usage:\n",
        "print(f\"2000 is a leap year: {is_leap_year(2000)}\")\n",
        "print(f\"1900 is a leap year: {is_leap_year(1900)}\")\n",
        "print(f\"2024 is a leap year: {is_leap_year(2024)}\")"
      ]
    },
    {
      "cell_type": "markdown",
      "source": [
        "write a function that checks whether a given year is a leap\n",
        "year"
      ],
      "metadata": {
        "id": "xsYhzcYdmYrp"
      }
    },
    {
      "cell_type": "markdown",
      "source": [
        "implement a python program that converts centimetre to inches.example:1cm=2.54 cm=1 inch"
      ],
      "metadata": {
        "id": "r8jVtYH2mtEw"
      }
    },
    {
      "cell_type": "code",
      "source": [
        "def cm_to_inches(cm):\n",
        "  \"\"\"Converts centimeters to inches.\"\"\"\n",
        "  return cm / 2.54\n",
        "\n",
        "# Example usage:\n",
        "centimeters = 10\n",
        "inches = cm_to_inches(centimeters)\n",
        "print(f\"{centimeters} cm is equal to {inches:.2f} inches\")\n",
        "\n",
        "centimeters = 20\n",
        "inches = cm_to_inches(centimeters)\n",
        "print(f\"{centimeters} cm is equal to {inches:.2f} inches\")"
      ],
      "metadata": {
        "colab": {
          "base_uri": "https://localhost:8080/"
        },
        "id": "V2p0xoSInY6g",
        "outputId": "37891e4c-7d61-4fb4-f351-80b7bfe6db05"
      },
      "execution_count": 3,
      "outputs": [
        {
          "output_type": "stream",
          "name": "stdout",
          "text": [
            "10 cm is equal to 3.94 inches\n",
            "20 cm is equal to 7.87 inches\n"
          ]
        }
      ]
    },
    {
      "cell_type": "markdown",
      "source": [
        "Format the given full name from \"First Last\" into \"Last, First\".\n",
        "\n",
        "Examples:\n",
        "Input: \"John Smith\" → Output: \"Smith, John\"\n",
        "Input: \"Alice Johnson\" → Output: \"Johnson, Alice\"\n",
        "Input: \"Michael Lee\" → Output: \"Lee, Michael\""
      ],
      "metadata": {
        "id": "Tp2Fud8unv2L"
      }
    },
    {
      "cell_type": "code",
      "source": [
        "def format_name(full_name):\n",
        "  \"\"\"\n",
        "  Formats a full name from \"First Last\" to \"Last, First\".\n",
        "\n",
        "  Args:\n",
        "    full_name: The full name string in \"First Last\" format.\n",
        "\n",
        "  Returns:\n",
        "    The formatted name string in \"Last, First\" format.\n",
        "  \"\"\"\n",
        "  parts = full_name.split()\n",
        "  if len(parts) >= 2:\n",
        "    return f\"{parts[-1]}, {' '.join(parts[:-1])}\"\n",
        "  else:\n",
        "    return full_name # Return original name if not in expected format\n",
        "\n",
        "# Example usage:\n",
        "print(f\"'John Smith' -> '{format_name('John Smith')}'\")\n",
        "print(f\"'Alice Johnson' -> '{format_name('Alice Johnson')}'\")\n",
        "print(f\"'Michael Lee' -> '{format_name('Michael Lee')}'\")\n",
        "print(f\"'Peter' -> '{format_name('Peter')}'\") # Example with single name"
      ],
      "metadata": {
        "colab": {
          "base_uri": "https://localhost:8080/"
        },
        "id": "D8s_KvA8oHCK",
        "outputId": "315238ae-e3d7-4099-bc93-3e80a597488f"
      },
      "execution_count": 6,
      "outputs": [
        {
          "output_type": "stream",
          "name": "stdout",
          "text": [
            "'John Smith' -> 'Smith, John'\n",
            "'Alice Johnson' -> 'Johnson, Alice'\n",
            "'Michael Lee' -> 'Lee, Michael'\n",
            "'Peter' -> 'Peter'\n"
          ]
        }
      ]
    },
    {
      "cell_type": "markdown",
      "source": [
        "Compare zero-shot and few-shot prompts for writing a function that counts the\n",
        "number of vowels in a string"
      ],
      "metadata": {
        "id": "hNiR1pnnoXpa"
      }
    },
    {
      "cell_type": "code",
      "source": [
        "# This is a conceptual comparison using example function implementations.\n",
        "# In a real scenario, you would interact with an LLM to get these functions.\n",
        "\n",
        "def count_vowels_zero_shot(text):\n",
        "  \"\"\"Counts vowels in a string (zero-shot - basic implementation).\"\"\"\n",
        "  vowels = \"aeiouAEIOU\"\n",
        "  count = 0\n",
        "  for char in text:\n",
        "    if char in vowels:\n",
        "      count += 1\n",
        "  return count\n",
        "\n",
        "def count_vowels_few_shot(text):\n",
        "  \"\"\"Counts vowels in a string (few-shot - potentially more robust implementation).\"\"\"\n",
        "  # This implementation might be more sophisticated based on few-shot examples,\n",
        "  # potentially handling edge cases or different languages if examples were provided.\n",
        "  # For this example, we'll keep it simple but conceptually different.\n",
        "  vowels = \"aeiouAEIOU\"\n",
        "  count = sum(1 for char in text if char in vowels)\n",
        "  return count\n",
        "\n",
        "# Example usage and comparison:\n",
        "test_string = \"Hello World!\"\n",
        "\n",
        "print(f\"Zero-shot result for '{test_string}': {count_vowels_zero_shot(test_string)}\")\n",
        "print(f\"Few-shot result for '{test_string}': {count_vowels_few_shot(test_string)}\")\n",
        "\n",
        "test_string_2 = \"Python Programming\"\n",
        "print(f\"Zero-shot result for '{test_string_2}': {count_vowels_zero_shot(test_string_2)}\")\n",
        "print(f\"Few-shot result for '{test_string_2}': {count_vowels_few_shot(test_string_2)}\")"
      ],
      "metadata": {
        "colab": {
          "base_uri": "https://localhost:8080/"
        },
        "id": "ZYiM5BpaosFS",
        "outputId": "47865f93-bc2d-4635-ede2-6e8108ce5ee0"
      },
      "execution_count": 8,
      "outputs": [
        {
          "output_type": "stream",
          "name": "stdout",
          "text": [
            "Zero-shot result for 'Hello World!': 3\n",
            "Few-shot result for 'Hello World!': 3\n",
            "Zero-shot result for 'Python Programming': 4\n",
            "Few-shot result for 'Python Programming': 4\n"
          ]
        }
      ]
    },
    {
      "cell_type": "markdown",
      "source": [
        "Read a .txt file and return the number of lines it contains.\n",
        "\n",
        "Examples:\n",
        "Example 1:\n",
        "File content:\n",
        "Hello world\n",
        "This is a Ai assisted coding\n",
        "Output: 2\n",
        "\n",
        "Example 2:\n",
        "File content:\n",
        "One line only\n",
        "Output: 1\n",
        "\n",
        "Example 3:\n",
        "File content:\n",
        "Line one\n",
        "Line two\n",
        "Line three\n",
        "Output: 3"
      ],
      "metadata": {
        "id": "uiogUgElo9i9"
      }
    },
    {
      "cell_type": "code",
      "source": [
        "import os\n",
        "\n",
        "# Create a dummy text file for demonstration\n",
        "file_content = \"\"\"Hello world\n",
        "This is a Ai assisted coding\n",
        "Another line here\n",
        "\"\"\"\n",
        "file_path = \"example.txt\"\n",
        "with open(file_path, \"w\") as f:\n",
        "    f.write(file_content)\n",
        "\n",
        "def count_lines_in_file(file_path):\n",
        "  \"\"\"\n",
        "  Reads a text file and returns the number of lines it contains.\n",
        "\n",
        "  Args:\n",
        "    file_path: The path to the text file.\n",
        "\n",
        "  Returns:\n",
        "    The number of lines in the file, or an error message if the file is not found.\n",
        "  \"\"\"\n",
        "  try:\n",
        "    with open(file_path, 'r') as f:\n",
        "      lines = f.readlines()\n",
        "      return len(lines)\n",
        "  except FileNotFoundError:\n",
        "    return f\"Error: File not found at {file_path}\"\n",
        "\n",
        "# Example usage:\n",
        "print(f\"The file '{file_path}' contains {count_lines_in_file(file_path)} lines.\")\n",
        "\n",
        "# Clean up the dummy file\n",
        "os.remove(file_path)"
      ],
      "metadata": {
        "colab": {
          "base_uri": "https://localhost:8080/"
        },
        "id": "Lh034VXepeNt",
        "outputId": "4678da9c-eb06-485c-e1db-bc9a2b7ebccd"
      },
      "execution_count": 10,
      "outputs": [
        {
          "output_type": "stream",
          "name": "stdout",
          "text": [
            "The file 'example.txt' contains 3 lines.\n"
          ]
        }
      ]
    }
  ]
}