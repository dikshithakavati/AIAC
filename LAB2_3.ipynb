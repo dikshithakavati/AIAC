{
  "nbformat": 4,
  "nbformat_minor": 0,
  "metadata": {
    "colab": {
      "provenance": [],
      "authorship_tag": "ABX9TyOxhhKhH44ldOcqR3jGH+C3",
      "include_colab_link": true
    },
    "kernelspec": {
      "name": "python3",
      "display_name": "Python 3"
    },
    "language_info": {
      "name": "python"
    }
  },
  "cells": [
    {
      "cell_type": "markdown",
      "metadata": {
        "id": "view-in-github",
        "colab_type": "text"
      },
      "source": [
        "<a href=\"https://colab.research.google.com/github/dikshithakavati/AIAC/blob/main/LAB2_3.ipynb\" target=\"_parent\"><img src=\"https://colab.research.google.com/assets/colab-badge.svg\" alt=\"Open In Colab\"/></a>"
      ]
    },
    {
      "cell_type": "code",
      "execution_count": null,
      "metadata": {
        "colab": {
          "base_uri": "https://localhost:8080/"
        },
        "id": "FvNJcxiybqwG",
        "outputId": "d6f4c997-9876-4ff0-bd91-4d006065f7a7"
      },
      "outputs": [
        {
          "output_type": "stream",
          "name": "stdout",
          "text": [
            "Column: num\n",
            "  Mean: 5.50\n",
            "  Min: 1.00\n",
            "  Max: 10.00\n"
          ]
        }
      ],
      "source": [
        "import pandas as pd\n",
        "\n",
        "def analyze_csv(file_path):\n",
        "  \"\"\"\n",
        "  Reads a CSV file and calculates mean, min, and max for each column.\n",
        "\n",
        "  Args:\n",
        "    file_path (str): The path to the CSV file.\n",
        "\n",
        "  Returns:\n",
        "    dict: A dictionary where keys are column names and values are dictionaries\n",
        "          containing mean, min, and max for each column.\n",
        "  \"\"\"\n",
        "  try:\n",
        "    df = pd.read_csv(file_path)\n",
        "    analysis_results = {}\n",
        "    for column in df.columns:\n",
        "      if pd.api.types.is_numeric_dtype(df[column]):\n",
        "        analysis_results[column] = {\n",
        "            'mean': df[column].mean(),\n",
        "            'min': df[column].min(),\n",
        "            'max': df[column].max()\n",
        "        }\n",
        "    return analysis_results\n",
        "  except FileNotFoundError:\n",
        "    return f\"Error: File not found at {file_path}\"\n",
        "  except Exception as e:\n",
        "    return f\"An error occurred: {e}\"\n",
        "\n",
        "# Replace '/content/lab3.csv' with the actual path to your CSV file\n",
        "file_path = '/content/lab3.csv'\n",
        "results = analyze_csv(file_path)\n",
        "\n",
        "if isinstance(results, dict):\n",
        "  for column, stats in results.items():\n",
        "    print(f\"Column: {column}\")\n",
        "    print(f\"  Mean: {stats['mean']:.2f}\")\n",
        "    print(f\"  Min: {stats['min']:.2f}\")\n",
        "    print(f\"  Max: {stats['max']:.2f}\")\n",
        "else:\n",
        "  print(results)"
      ]
    },
    {
      "cell_type": "markdown",
      "source": [
        "Compare Gemini and Copilot outputs for a palindrome check function.\n",
        "Expected Output:\n",
        "● Side-by-side comparison and observations"
      ],
      "metadata": {
        "id": "4L0SsSIJpPUU"
      }
    },
    {
      "cell_type": "code",
      "source": [
        "def is_palindrome(text):\n",
        "  \"\"\"\n",
        "  Checks if a string is a palindrome.\n",
        "\n",
        "  Args:\n",
        "    text (str): The string to check.\n",
        "\n",
        "  Returns:\n",
        "    bool: True if the string is a palindrome, False otherwise.\n",
        "  \"\"\"\n",
        "  # Remove non-alphanumeric characters and convert to lowercase\n",
        "  cleaned_text = ''.join(filter(str.isalnum, text)).lower()\n",
        "  # Check if the cleaned string is equal to its reverse\n",
        "  return cleaned_text == cleaned_text[::-1]\n",
        "\n",
        "# Get input from the console\n",
        "input_string = input(\"Enter a string to check if it's a palindrome: \")\n",
        "\n",
        "# Check if the input string is a palindrome\n",
        "if is_palindrome(input_string):\n",
        "  print(f\"'{input_string}' is a palindrome.\")\n",
        "else:\n",
        "  print(f\"'{input_string}' is not a palindrome.\")"
      ],
      "metadata": {
        "colab": {
          "base_uri": "https://localhost:8080/"
        },
        "id": "uqFxaq9erv_L",
        "outputId": "9a310860-8433-4165-e2ad-52081368733b"
      },
      "execution_count": null,
      "outputs": [
        {
          "output_type": "stream",
          "name": "stdout",
          "text": [
            "Enter a string to check if it's a palindrome: 121\n",
            "'121' is a palindrome.\n"
          ]
        }
      ]
    },
    {
      "cell_type": "markdown",
      "source": [
        "Ask Gemini to explain a Python function (to calculate area of various shapes) line by\n",
        "line..\n",
        "Expected Output#3\n",
        "● Detailed explanation with code snippet."
      ],
      "metadata": {
        "id": "pUnQB8OEsVIS"
      }
    },
    {
      "cell_type": "code",
      "source": [
        "import math\n",
        "\n",
        "def calculate_area(shape, dimensions):\n",
        "  \"\"\"\n",
        "  Calculates the area of various shapes.\n",
        "\n",
        "  Args:\n",
        "    shape (str): The name of the shape (e.g., 'circle', 'square', 'rectangle', 'triangle').\n",
        "    dimensions (tuple): A tuple containing the dimensions of the shape.\n",
        "                        - For 'circle': (radius,)\n",
        "                        - For 'square': (side,)\n",
        "                        - For 'rectangle': (length, width)\n",
        "                        - For 'triangle': (base, height)\n",
        "\n",
        "  Returns:\n",
        "    float: The area of the shape, or None if the shape or dimensions are invalid.\n",
        "  \"\"\"\n",
        "  if shape.lower() == 'circle':\n",
        "    if len(dimensions) == 1:\n",
        "      radius = dimensions[0]\n",
        "      return math.pi * radius**2\n",
        "    else:\n",
        "      return None  # Invalid dimensions for circle\n",
        "  elif shape.lower() == 'square':\n",
        "    if len(dimensions) == 1:\n",
        "      side = dimensions[0]\n",
        "      return side**2\n",
        "    else:\n",
        "      return None  # Invalid dimensions for square\n",
        "  elif shape.lower() == 'rectangle':\n",
        "    if len(dimensions) == 2:\n",
        "      length, width = dimensions\n",
        "      return length * width\n",
        "    else:\n",
        "      return None  # Invalid dimensions for rectangle\n",
        "  elif shape.lower() == 'triangle':\n",
        "    if len(dimensions) == 2:\n",
        "      base, height = dimensions\n",
        "      return 0.5 * base * height\n",
        "    else:\n",
        "      return None  # Invalid dimensions for triangle\n",
        "  else:\n",
        "    return None  # Invalid shape\n",
        "\n",
        "# Example usage:\n",
        "circle_area = calculate_area('circle', (5,))\n",
        "square_area = calculate_area('square', (4,))\n",
        "rectangle_area = calculate_area('rectangle', (6, 8))\n",
        "triangle_area = calculate_area('triangle', (7, 3))\n",
        "invalid_area = calculate_area('pentagon', (1,))\n",
        "\n",
        "print(f\"Area of circle with radius 5: {circle_area}\")\n",
        "print(f\"Area of square with side 4: {square_area}\")\n",
        "print(f\"Area of rectangle with length 6 and width 8: {rectangle_area}\")\n",
        "print(f\"Area of triangle with base 7 and height 3: {triangle_area}\")\n",
        "print(f\"Area of invalid shape: {invalid_area}\")"
      ],
      "metadata": {
        "colab": {
          "base_uri": "https://localhost:8080/"
        },
        "id": "1ShFlsLAsjoh",
        "outputId": "5f96a14c-7a6e-4f12-93ed-83444b3344a3"
      },
      "execution_count": null,
      "outputs": [
        {
          "output_type": "stream",
          "name": "stdout",
          "text": [
            "Area of circle with radius 5: 78.53981633974483\n",
            "Area of square with side 4: 16\n",
            "Area of rectangle with length 6 and width 8: 48\n",
            "Area of triangle with base 7 and height 3: 10.5\n",
            "Area of invalid shape: None\n"
          ]
        }
      ]
    },
    {
      "cell_type": "code",
      "source": [],
      "metadata": {
        "id": "BIR1lAjw_hdJ"
      },
      "execution_count": null,
      "outputs": []
    },
    {
      "cell_type": "markdown",
      "source": [
        "Install and configure Cursor AI. Use it to generate a Python function (e.g., sum of\n",
        "squares)."
      ],
      "metadata": {
        "id": "e7yIok72_iQa"
      }
    },
    {
      "cell_type": "code",
      "metadata": {
        "colab": {
          "base_uri": "https://localhost:8080/"
        },
        "id": "707afa66",
        "outputId": "fbfdae1a-9aee-460c-d882-8f5d5fa03831"
      },
      "source": [
        "def sum_of_squares(numbers):\n",
        "  \"\"\"\n",
        "  Calculates the sum of squares of a list of numbers.\n",
        "\n",
        "  Args:\n",
        "    numbers (list): A list of numbers.\n",
        "\n",
        "  Returns:\n",
        "    int or float: The sum of the squares of the numbers.\n",
        "  \"\"\"\n",
        "  return sum(x**2 for x in numbers)\n",
        "\n",
        "# Example usage\n",
        "my_list = [1, 2, 3, 4, 5]\n",
        "result = sum_of_squares(my_list)\n",
        "print(f\"The sum of squares of {my_list} is: {result}\")"
      ],
      "execution_count": 1,
      "outputs": [
        {
          "output_type": "stream",
          "name": "stdout",
          "text": [
            "The sum of squares of [1, 2, 3, 4, 5] is: 55\n"
          ]
        }
      ]
    },
    {
      "cell_type": "code",
      "source": [
        "def sum_odd_even(numbers):\n",
        "  \"\"\"\n",
        "  Calculates the sum of odd and even numbers in a list.\n",
        "\n",
        "  Args:\n",
        "    numbers (list): A list of numbers.\n",
        "\n",
        "  Returns:\n",
        "    tuple: A tuple containing the sum of odd numbers and the sum of even numbers.\n",
        "  \"\"\"\n",
        "  sum_odd = 0\n",
        "  sum_even = 0\n",
        "  for number in numbers:\n",
        "    if number % 2 == 0:\n",
        "      sum_even += number\n",
        "    else:\n",
        "      sum_odd += number\n",
        "  return sum_odd, sum_even\n",
        "\n",
        "# Example usage\n",
        "my_list = [1, 2, 3, 4, 5, 6, 7, 8, 9, 10]\n",
        "odd_sum, even_sum = sum_odd_even(my_list)\n",
        "\n",
        "print(f\"The list is: {my_list}\")\n",
        "print(f\"Sum of odd numbers: {odd_sum}\")\n",
        "print(f\"Sum of even numbers: {even_sum}\")"
      ],
      "metadata": {
        "colab": {
          "base_uri": "https://localhost:8080/"
        },
        "id": "OXo_JRr4AVg2",
        "outputId": "dd5ef770-28a0-447a-87df-5423cc15518e"
      },
      "execution_count": 2,
      "outputs": [
        {
          "output_type": "stream",
          "name": "stdout",
          "text": [
            "The list is: [1, 2, 3, 4, 5, 6, 7, 8, 9, 10]\n",
            "Sum of odd numbers: 25\n",
            "Sum of even numbers: 30\n"
          ]
        }
      ]
    },
    {
      "cell_type": "markdown",
      "source": [
        "Student need to write code to calculate sum of add number and even numbers in the\n",
        "list"
      ],
      "metadata": {
        "id": "DGzPnOxpAWaB"
      }
    }
  ]
}